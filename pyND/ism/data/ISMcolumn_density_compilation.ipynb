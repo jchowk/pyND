{
 "cells": [
  {
   "cell_type": "markdown",
   "metadata": {},
   "source": [
    "# ISM absorption columns from Gudennavar et al. (2012)\n",
    "\n",
    "https://iopscience.iop.org/article/10.1088/0067-0049/199/1/8"
   ]
  },
  {
   "cell_type": "code",
   "execution_count": 1,
   "metadata": {},
   "outputs": [],
   "source": [
    "# Typical imports here\n",
    "import numpy as np\n",
    "import matplotlib.pyplot as plt\n",
    "import astropy.units as u\n",
    "import astropy.constants as c\n",
    "\n",
    "from astropy.table import Table"
   ]
  },
  {
   "cell_type": "markdown",
   "metadata": {},
   "source": [
    "## Read the data table\n",
    "The main table is a table of column densities. [Filename = `J_ApJS_199_8_table2.dat.gz.fits`]\n",
    "* Each integrated column density has an positive and negative error stored in, e.g., `E_N(AlII)` and `e_N(AlII)`, respectively.\n",
    "* The references for each column density measurement are stored as, e.g., `r_N(AlII)`.\n",
    "* The reference codes are in the associated file `J_ApJS_199_8_refs.dat.fits`"
   ]
  },
  {
   "cell_type": "code",
   "execution_count": 2,
   "metadata": {},
   "outputs": [],
   "source": [
    "a=Table.read('J_ApJS_199_8_table2.dat.gz.fits')"
   ]
  },
  {
   "cell_type": "code",
   "execution_count": 7,
   "metadata": {},
   "outputs": [
    {
     "data": {
      "text/plain": [
       "['Seq',\n",
       " 'Name',\n",
       " 'Simbad',\n",
       " 'GLON',\n",
       " 'GLAT',\n",
       " 'SpType',\n",
       " 'Bmag',\n",
       " 'Vmag',\n",
       " 'Kmag',\n",
       " 'E(B-V)',\n",
       " 'r_E(B-V)',\n",
       " 'E(K-V)',\n",
       " 'r_E(K-V)',\n",
       " 'Dist',\n",
       " 'E_Dist',\n",
       " 'e_Dist',\n",
       " 'r_Dist',\n",
       " 'N(AlII)',\n",
       " 'E_N(AlII)',\n",
       " 'e_N(AlII)']"
      ]
     },
     "execution_count": 7,
     "metadata": {},
     "output_type": "execute_result"
    }
   ],
   "source": [
    "a.colnames[0:20]"
   ]
  },
  {
   "cell_type": "code",
   "execution_count": null,
   "metadata": {},
   "outputs": [],
   "source": []
  }
 ],
 "metadata": {
  "kernelspec": {
   "display_name": "Python 3",
   "language": "python",
   "name": "python3"
  },
  "language_info": {
   "codemirror_mode": {
    "name": "ipython",
    "version": 3
   },
   "file_extension": ".py",
   "mimetype": "text/x-python",
   "name": "python",
   "nbconvert_exporter": "python",
   "pygments_lexer": "ipython3",
   "version": "3.7.7"
  }
 },
 "nbformat": 4,
 "nbformat_minor": 4
}
