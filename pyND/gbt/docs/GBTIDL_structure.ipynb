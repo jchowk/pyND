{
 "cells": [
  {
   "cell_type": "markdown",
   "metadata": {},
   "source": [
    "# What is the structure of a GBT FITS file?\n"
   ]
  },
  {
   "cell_type": "code",
   "execution_count": 9,
   "metadata": {},
   "outputs": [],
   "source": [
    "# Typical imports here\n",
    "import numpy as np\n",
    "import matplotlib.pyplot as plt\n",
    "import astropy.units as u\n",
    "import astropy.constants as c"
   ]
  },
  {
   "cell_type": "code",
   "execution_count": 10,
   "metadata": {},
   "outputs": [],
   "source": [
    "from astropy.io import fits\n",
    "from astropy.table import Table,join,vstack"
   ]
  },
  {
   "cell_type": "code",
   "execution_count": 11,
   "metadata": {},
   "outputs": [],
   "source": [
    "import pickle\n",
    "from pathlib import Path\n",
    "homedir = str(Path.home())"
   ]
  },
  {
   "cell_type": "markdown",
   "metadata": {},
   "source": [
    "# Test using AMIGA dataset"
   ]
  },
  {
   "cell_type": "code",
   "execution_count": 12,
   "metadata": {},
   "outputs": [],
   "source": [
    "fl = homedir+'/Dropbox/GBT-AMIGA/Data-Reduced/AMIGA-GBT.fits'"
   ]
  },
  {
   "cell_type": "code",
   "execution_count": 13,
   "metadata": {},
   "outputs": [
    {
     "data": {
      "text/plain": [
       "(50,)"
      ]
     },
     "execution_count": 13,
     "metadata": {},
     "output_type": "execute_result"
    }
   ],
   "source": [
    "a=fits.open(fl)\n",
    "np.shape(a)"
   ]
  },
  {
   "cell_type": "markdown",
   "metadata": {},
   "source": [
    "There are 50 extensions, each potentially holding multiple sight lines."
   ]
  },
  {
   "cell_type": "code",
   "execution_count": 14,
   "metadata": {},
   "outputs": [
    {
     "name": "stdout",
     "output_type": "stream",
     "text": [
      "Filename: (No file associated with this HDUList)\n",
      "No.    Name      Ver    Type      Cards   Dimensions   Format\n",
      "  0  PRIMARY       1 PrimaryHDU       9   ()      \n",
      "  1  SINGLE DISH    1 BinTableHDU    185   2R x 83C   [32A, D, 22A, D, D, D, 711E, 16A, 6A, 8A, D, D, D, 4A, D, 4A, D, I, 32A, 32A, J, 32A, 16A, D, 8A, D, D, D, D, D, D, D, D, D, D, D, D, D, 8A, D, D, 8A, I, I, D, D, I, A, I, I, 16A, 16A, J, J, 22A, D, D, I, A, D, D, E, D, D, D, D, A, A, 8A, E, E, 16A, 32A, 32A, 32A, D, D, D, I, I, I, J, J]   \n",
      "  2  SINGLE DISH    1 BinTableHDU    185   1R x 83C   [32A, D, 22A, D, D, D, 1024E, 16A, 6A, 8A, D, D, D, 4A, D, 4A, D, I, 32A, 32A, J, 32A, 16A, D, 8A, D, D, D, D, D, D, D, D, D, D, D, D, D, 8A, D, D, 8A, I, I, D, D, I, A, I, I, 16A, 16A, J, J, 22A, D, D, I, A, D, D, E, D, D, D, D, A, A, 8A, E, E, 16A, 32A, 32A, 32A, D, D, D, I, I, I, J, J]   \n",
      "  3  SINGLE DISH    1 BinTableHDU    185   3R x 83C   [32A, D, 22A, D, D, D, 711E, 16A, 6A, 8A, D, D, D, 4A, D, 4A, D, I, 32A, 32A, J, 32A, 16A, D, 8A, D, D, D, D, D, D, D, D, D, D, D, D, D, 8A, D, D, 8A, I, I, D, D, I, A, I, I, 16A, 16A, J, J, 22A, D, D, I, A, D, D, E, D, D, D, D, A, A, 8A, E, E, 16A, 32A, 32A, 32A, D, D, D, I, I, I, J, J]   \n",
      "  4  SINGLE DISH    1 BinTableHDU    185   1R x 83C   [32A, D, 22A, D, D, D, 419E, 16A, 6A, 8A, D, D, D, 4A, D, 4A, D, I, 32A, 32A, J, 32A, 16A, D, 8A, D, D, D, D, D, D, D, D, D, D, D, D, D, 8A, D, D, 8A, I, I, D, D, I, A, I, I, 16A, 16A, J, J, 22A, D, D, I, A, D, D, E, D, D, D, D, A, A, 8A, E, E, 16A, 32A, 32A, 32A, D, D, D, I, I, I, J, J]   \n"
     ]
    }
   ],
   "source": [
    "a[0:5].info()"
   ]
  },
  {
   "cell_type": "markdown",
   "metadata": {},
   "source": [
    "## Each extension contains an extensive binary table housing all the data.\n",
    "\n",
    "Each extension itself has multiple objects?"
   ]
  },
  {
   "cell_type": "code",
   "execution_count": 15,
   "metadata": {
    "scrolled": true
   },
   "outputs": [
    {
     "data": {
      "text/plain": [
       "ColDefs(\n",
       "    name = 'OBJECT'; format = '32A'\n",
       "    name = 'BANDWID'; format = 'D'\n",
       "    name = 'DATE-OBS'; format = '22A'\n",
       "    name = 'DURATION'; format = 'D'\n",
       "    name = 'EXPOSURE'; format = 'D'\n",
       "    name = 'TSYS'; format = 'D'\n",
       "    name = 'DATA'; format = '711E'\n",
       "    name = 'TDIM7'; format = '16A'\n",
       "    name = 'TUNIT7'; format = '6A'\n",
       "    name = 'CTYPE1'; format = '8A'\n",
       "    name = 'CRVAL1'; format = 'D'\n",
       "    name = 'CRPIX1'; format = 'D'\n",
       "    name = 'CDELT1'; format = 'D'\n",
       "    name = 'CTYPE2'; format = '4A'\n",
       "    name = 'CRVAL2'; format = 'D'\n",
       "    name = 'CTYPE3'; format = '4A'\n",
       "    name = 'CRVAL3'; format = 'D'\n",
       "    name = 'CRVAL4'; format = 'I'\n",
       "    name = 'OBSERVER'; format = '32A'\n",
       "    name = 'OBSID'; format = '32A'\n",
       "    name = 'SCAN'; format = 'J'\n",
       "    name = 'OBSMODE'; format = '32A'\n",
       "    name = 'FRONTEND'; format = '16A'\n",
       "    name = 'TCAL'; format = 'D'\n",
       "    name = 'VELDEF'; format = '8A'\n",
       "    name = 'VFRAME'; format = 'D'\n",
       "    name = 'RVSYS'; format = 'D'\n",
       "    name = 'OBSFREQ'; format = 'D'\n",
       "    name = 'LST'; format = 'D'\n",
       "    name = 'AZIMUTH'; format = 'D'\n",
       "    name = 'ELEVATIO'; format = 'D'\n",
       "    name = 'TAMBIENT'; format = 'D'\n",
       "    name = 'PRESSURE'; format = 'D'\n",
       "    name = 'HUMIDITY'; format = 'D'\n",
       "    name = 'RESTFREQ'; format = 'D'\n",
       "    name = 'DOPFREQ'; format = 'D'\n",
       "    name = 'FREQRES'; format = 'D'\n",
       "    name = 'EQUINOX'; format = 'D'\n",
       "    name = 'RADESYS'; format = '8A'\n",
       "    name = 'TRGTLONG'; format = 'D'\n",
       "    name = 'TRGTLAT'; format = 'D'\n",
       "    name = 'SAMPLER'; format = '8A'\n",
       "    name = 'FEED'; format = 'I'\n",
       "    name = 'SRFEED'; format = 'I'\n",
       "    name = 'FEEDXOFF'; format = 'D'\n",
       "    name = 'FEEDEOFF'; format = 'D'\n",
       "    name = 'SUBREF_STATE'; format = 'I'\n",
       "    name = 'SIDEBAND'; format = 'A'\n",
       "    name = 'PROCSEQN'; format = 'I'\n",
       "    name = 'PROCSIZE'; format = 'I'\n",
       "    name = 'PROCSCAN'; format = '16A'\n",
       "    name = 'PROCTYPE'; format = '16A'\n",
       "    name = 'LASTON'; format = 'J'\n",
       "    name = 'LASTOFF'; format = 'J'\n",
       "    name = 'TIMESTAMP'; format = '22A'\n",
       "    name = 'QD_XEL'; format = 'D'\n",
       "    name = 'QD_EL'; format = 'D'\n",
       "    name = 'QD_BAD'; format = 'I'\n",
       "    name = 'QD_METHOD'; format = 'A'\n",
       "    name = 'VELOCITY'; format = 'D'\n",
       "    name = 'FOFFREF1'; format = 'D'\n",
       "    name = 'ZEROCHAN'; format = 'E'\n",
       "    name = 'ADCSAMPF'; format = 'D'\n",
       "    name = 'VSPDELT'; format = 'D'\n",
       "    name = 'VSPRVAL'; format = 'D'\n",
       "    name = 'VSPRPIX'; format = 'D'\n",
       "    name = 'SIG'; format = 'A'\n",
       "    name = 'CAL'; format = 'A'\n",
       "    name = 'CALTYPE'; format = '8A'\n",
       "    name = 'TWARM'; format = 'E'\n",
       "    name = 'TCOLD'; format = 'E'\n",
       "    name = 'CALPOSITION'; format = '16A'\n",
       "    name = 'BACKEND'; format = '32A'\n",
       "    name = 'PROJID'; format = '32A'\n",
       "    name = 'TELESCOP'; format = '32A'\n",
       "    name = 'SITELONG'; format = 'D'\n",
       "    name = 'SITELAT'; format = 'D'\n",
       "    name = 'SITEELEV'; format = 'D'\n",
       "    name = 'IFNUM'; format = 'I'\n",
       "    name = 'PLNUM'; format = 'I'\n",
       "    name = 'FDNUM'; format = 'I'\n",
       "    name = 'INT'; format = 'J'\n",
       "    name = 'NSAVE'; format = 'J'\n",
       ")"
      ]
     },
     "execution_count": 15,
     "metadata": {},
     "output_type": "execute_result"
    }
   ],
   "source": [
    "x1 = a[1]\n",
    "x2 = a[2]\n",
    "x3 = a[48]\n",
    "x1.columns"
   ]
  },
  {
   "cell_type": "markdown",
   "metadata": {},
   "source": [
    "#### Each extension is its own table, containing multiple targets"
   ]
  },
  {
   "cell_type": "code",
   "execution_count": 16,
   "metadata": {},
   "outputs": [
    {
     "name": "stdout",
     "output_type": "stream",
     "text": [
      "1: ['M31Halo_105_025' 'M31Halo_285_025']\n",
      "2: ['RXJ0048.3+3941']\n",
      "3: ['M31Halo_075_025' 'M31Halo_000_025' 'SDSSJ003125.36+403222.0']\n",
      "4: ['HS0033+4300']\n",
      "5: ['LAMOST005016.63+391639.0' 'LAMOST003432.52+391836.1'\n",
      " 'LAMOST004706.09+384843.9' 'NPM1G+43.0016' 'M31Halo_075_040'\n",
      " 'M31Halo_145_040' 'GALEXJ002912+433216' 'M31Halo_285_045'\n",
      " 'M31Halo_200_045' 'M31Halo_000_045' 'M31Halo_105_045']\n",
      "6: ['HS0058+4213']\n",
      "7: ['RXSJ0043.6+372521']\n",
      "8: ['SDSSJ002827.06+380942.0']\n",
      "9: ['ZW535.012']\n",
      "10: ['UVQSJ001903.85+423809.0' 'SDSSJ005547.99+451410.9']\n",
      "11: ['Q0030+3700']\n",
      "12: ['LAMOST005846.82+365514.2']\n",
      "13: ['BLANK']\n",
      "14: ['MS0108.4+3859']\n",
      "15: ['RXSJ005050.6+353645']\n",
      "16: ['GALEXJ001036+400314']\n",
      "17: ['2E0111.0+3851']\n",
      "18: ['M31Halo_000_085' 'M31Halo_210_085' 'M31Halo_030_085' 'M31Halo_330_085'\n",
      " 'LAMOST011724.84+435335.9' 'MRK971']\n",
      "19: ['IRAS00040+4325' 'RXSJ011848.2+383626']\n",
      "20: ['HS0010+3611' 'SDSSJ012400.59+410709.7']\n",
      "21: ['RXJ0117.7+3637' 'SDSSJ001847.44+341209.5']\n",
      "22: ['SDSSJ012048.92+464344.9' 'SDSSJ013115.62+411704.3'\n",
      " 'SDSSJ000443.83+353755.0' 'M31Halo_105_130' 'M31Halo_295_130'\n",
      " 'M31Halo_075_130']\n",
      "23: ['MRK352']\n",
      "24: ['M31Halo_030_135' 'M31Halo_270_135' 'M31Halo_000_135']\n",
      "25: ['RXJ0028.1+3103']\n",
      "26: ['LAMOST011500.94+324519.5']\n",
      "27: ['NGC513']\n",
      "28: ['4C49.48' 'NGC315']\n",
      "29: ['KAZ238' 'MRK1158']\n",
      "30: ['4C44.04']\n",
      "31: ['2MASSJ00413+2816']\n",
      "32: ['SDSSJ233811.91+472323.5' 'M31Halo_000_175']\n",
      "33: ['FBS0150+396']\n",
      "34: ['LAMOST012400.31+304003.0']\n",
      "35: ['3C48']\n",
      "36: ['UVQSJ005617.72+275349.7' 'CGCG498-038']\n",
      "37: ['4C25.01' 'PG0052+251']\n",
      "38: ['2MASSJ00294+2424' 'RXSJ015536.7+311525']\n",
      "39: ['RBS2055' 'RBS2061']\n",
      "40: ['UVQSJ021621.18+371028.3']\n",
      "41: ['3C66A']\n",
      "42: ['RXJ0053.7+2232' 'MRK930']\n",
      "43: ['RXJ0048.7+2127' 'MRK357' '3C59']\n",
      "44: ['PG0117+213']\n",
      "45: ['HS0137+2329' 'KUV02196+3253']\n",
      "46: ['RXJ0029.0+1957']\n",
      "47: ['RXJ0044.9+1921' 'MRK335' 'UGC1098' 'RXSJ023231.4+340435'\n",
      " 'RXSJ225148.5+341937']\n",
      "48: ['MRK1148']\n",
      "49: ['RBS2005' 'MRK1179' 'PG0003+158' 'UGC12163']\n"
     ]
    }
   ],
   "source": [
    "all_obj = []\n",
    "for j in np.arange(1,np.size(a)):\n",
    "    print(\"{0}: {1}\".format(j,a[j].data['object']))\n",
    "    all_obj.append(a[j].data['object'].tolist())"
   ]
  },
  {
   "cell_type": "markdown",
   "metadata": {},
   "source": [
    "## We can create an astropy table from the input data:"
   ]
  },
  {
   "cell_type": "code",
   "execution_count": 17,
   "metadata": {},
   "outputs": [
    {
     "data": {
      "text/html": [
       "<i>Table length=1</i>\n",
       "<table id=\"table4883242832\" class=\"table-striped table-bordered table-condensed\">\n",
       "<thead><tr><th>OBJECT</th><th>BANDWID</th><th>DATE-OBS</th><th>DURATION</th><th>EXPOSURE</th><th>TSYS</th><th>DATA [1024]</th><th>TDIM7</th><th>TUNIT7</th><th>CTYPE1</th><th>CRVAL1</th><th>CRPIX1</th><th>CDELT1</th><th>CTYPE2</th><th>CRVAL2</th><th>CTYPE3</th><th>CRVAL3</th><th>CRVAL4</th><th>OBSERVER</th><th>OBSID</th><th>SCAN</th><th>OBSMODE</th><th>FRONTEND</th><th>TCAL</th><th>VELDEF</th><th>VFRAME</th><th>RVSYS</th><th>OBSFREQ</th><th>LST</th><th>AZIMUTH</th><th>ELEVATIO</th><th>TAMBIENT</th><th>PRESSURE</th><th>HUMIDITY</th><th>RESTFREQ</th><th>DOPFREQ</th><th>FREQRES</th><th>EQUINOX</th><th>RADESYS</th><th>TRGTLONG</th><th>TRGTLAT</th><th>SAMPLER</th><th>FEED</th><th>SRFEED</th><th>FEEDXOFF</th><th>FEEDEOFF</th><th>SUBREF_STATE</th><th>SIDEBAND</th><th>PROCSEQN</th><th>PROCSIZE</th><th>PROCSCAN</th><th>PROCTYPE</th><th>LASTON</th><th>LASTOFF</th><th>TIMESTAMP</th><th>QD_XEL</th><th>QD_EL</th><th>QD_BAD</th><th>QD_METHOD</th><th>VELOCITY</th><th>FOFFREF1</th><th>ZEROCHAN</th><th>ADCSAMPF</th><th>VSPDELT</th><th>VSPRVAL</th><th>VSPRPIX</th><th>SIG</th><th>CAL</th><th>CALTYPE</th><th>TWARM</th><th>TCOLD</th><th>CALPOSITION</th><th>BACKEND</th><th>PROJID</th><th>TELESCOP</th><th>SITELONG</th><th>SITELAT</th><th>SITEELEV</th><th>IFNUM</th><th>PLNUM</th><th>FDNUM</th><th>INT</th><th>NSAVE</th></tr></thead>\n",
       "<thead><tr><th>str32</th><th>float64</th><th>str22</th><th>float64</th><th>float64</th><th>float64</th><th>float32</th><th>str16</th><th>str6</th><th>str8</th><th>float64</th><th>float64</th><th>float64</th><th>str4</th><th>float64</th><th>str4</th><th>float64</th><th>int16</th><th>str32</th><th>str32</th><th>int32</th><th>str32</th><th>str16</th><th>float64</th><th>str8</th><th>float64</th><th>float64</th><th>float64</th><th>float64</th><th>float64</th><th>float64</th><th>float64</th><th>float64</th><th>float64</th><th>float64</th><th>float64</th><th>float64</th><th>float64</th><th>str8</th><th>float64</th><th>float64</th><th>str8</th><th>int16</th><th>int16</th><th>float64</th><th>float64</th><th>int16</th><th>str1</th><th>int16</th><th>int16</th><th>str16</th><th>str16</th><th>int32</th><th>int32</th><th>str22</th><th>float64</th><th>float64</th><th>int16</th><th>str1</th><th>float64</th><th>float64</th><th>float32</th><th>float64</th><th>float64</th><th>float64</th><th>float64</th><th>str1</th><th>str1</th><th>str8</th><th>float32</th><th>float32</th><th>str16</th><th>str32</th><th>str32</th><th>str32</th><th>float64</th><th>float64</th><th>float64</th><th>int16</th><th>int16</th><th>int16</th><th>int32</th><th>int32</th></tr></thead>\n",
       "<tr><td>RXJ0048.3+3941</td><td>23437500.0</td><td>2014-09-26T03:27:43.51</td><td>9332.431640625</td><td>8963.7548828125</td><td>18.829669952392578</td><td>0.110209204 .. -0.14185081</td><td>(1024,1,1,1)</td><td>Ta*</td><td>FREQ-OBS</td><td>1421608409.0</td><td>512.875</td><td>-22888.18359375</td><td>RA</td><td>12.080509703857576</td><td>DEC</td><td>39.687289029721384</td><td>-5</td><td>D.J. Pisano</td><td>unknown</td><td>73</td><td>Track:NONE:TPWCAL</td><td>Rcvr1_2</td><td>1.809999942779541</td><td>OPTI-BAR</td><td>-10629.59826927864</td><td>0.0</td><td>1421608409.0</td><td>80871.83511952717</td><td>75.94262088926313</td><td>62.73957852304777</td><td>285.45001220703125</td><td>699.9802421563649</td><td>0.9779999852180481</td><td>1420405752.0</td><td>1420405752.0</td><td>22799.124558394866</td><td>2000.0</td><td>FK5</td><td>12.07916666666667</td><td>39.68638888888889</td><td>A1_0</td><td>1</td><td>0</td><td>0.0</td><td>0.0</td><td>1</td><td>L</td><td>1</td><td>1</td><td>ON</td><td>SIMPLE</td><td>0</td><td>0</td><td>2014_09_26_03:27:43</td><td>nan</td><td>nan</td><td>-1</td><td></td><td>-243000.0</td><td>0.0</td><td>nan</td><td>nan</td><td>nan</td><td>nan</td><td>nan</td><td>T</td><td>F</td><td>LOW</td><td>nan</td><td>nan</td><td>Unknown</td><td>VEGAS</td><td>AGBT14B_436_01</td><td>NRAO_GBT</td><td>-79.83983</td><td>38.43312</td><td>824.595</td><td>0</td><td>1</td><td>0</td><td>0</td><td>-1</td></tr>\n",
       "</table>"
      ],
      "text/plain": [
       "<Table length=1>\n",
       "             OBJECT               BANDWID   ...  INT  NSAVE\n",
       "             str32                float64   ... int32 int32\n",
       "-------------------------------- ---------- ... ----- -----\n",
       "RXJ0048.3+3941                   23437500.0 ...     0    -1"
      ]
     },
     "execution_count": 17,
     "metadata": {},
     "output_type": "execute_result"
    }
   ],
   "source": [
    "Table(x2.data)"
   ]
  },
  {
   "cell_type": "markdown",
   "metadata": {},
   "source": [
    "# Create a spectrum"
   ]
  },
  {
   "cell_type": "code",
   "execution_count": 18,
   "metadata": {},
   "outputs": [],
   "source": [
    "b=x2.data[0]\n",
    "nu0=b['RESTFREQ']\n",
    "nu = ((np.arange(np.size(b['DATA']))+1)-b['CRPIX1'])*b['CDELT1'] + b['CRVAL1']"
   ]
  },
  {
   "cell_type": "code",
   "execution_count": 19,
   "metadata": {},
   "outputs": [],
   "source": [
    "vel = (nu0-nu)/nu0 * c.c.to('km/s')\n",
    "Ta = b['DATA']"
   ]
  },
  {
   "cell_type": "code",
   "execution_count": 20,
   "metadata": {},
   "outputs": [
    {
     "data": {
      "image/png": "[encoded data removed]",
      "text/plain": [
       "<Figure size 720x360 with 1 Axes>"
      ]
     },
     "metadata": {
      "image/png": {
       "height": 315,
       "width": 606
      },
      "needs_background": "light"
     },
     "output_type": "display_data"
    }
   ],
   "source": [
    "plt.figure(figsize=(10,5))\n",
    "plt.plot(vel,Ta)\n",
    "plt.xlim(-800,500)\n",
    "plt.ylim(-0.05,0.1)\n",
    "plt.axhline(0.,linestyle='--',color='k',linewidth=1)\n",
    "plt.title(b['OBJECT']);"
   ]
  },
  {
   "cell_type": "markdown",
   "metadata": {},
   "source": [
    "# Find a specific object:"
   ]
  },
  {
   "cell_type": "code",
   "execution_count": 13,
   "metadata": {},
   "outputs": [],
   "source": [
    "fnd_obj = 'RBS2055'\n",
    "for j in np.arange(1,np.size(a)):\n",
    "    xxx = a[j].data\n",
    "    gd=(xxx['OBJECT'] == fnd_obj)\n",
    "    if gd.sum() > 0:\n",
    "        out = xxx[gd]        "
   ]
  },
  {
   "cell_type": "code",
   "execution_count": 14,
   "metadata": {},
   "outputs": [],
   "source": [
    "b=out.copy()"
   ]
  },
  {
   "cell_type": "code",
   "execution_count": 15,
   "metadata": {
    "scrolled": true
   },
   "outputs": [
    {
     "data": {
      "text/plain": [
       "ColDefs(\n",
       "    name = 'OBJECT'; format = '32A'\n",
       "    name = 'BANDWID'; format = 'D'\n",
       "    name = 'DATE-OBS'; format = '22A'\n",
       "    name = 'DURATION'; format = 'D'\n",
       "    name = 'EXPOSURE'; format = 'D'\n",
       "    name = 'TSYS'; format = 'D'\n",
       "    name = 'DATA'; format = '430E'\n",
       "    name = 'TDIM7'; format = '16A'\n",
       "    name = 'TUNIT7'; format = '6A'\n",
       "    name = 'CTYPE1'; format = '8A'\n",
       "    name = 'CRVAL1'; format = 'D'\n",
       "    name = 'CRPIX1'; format = 'D'\n",
       "    name = 'CDELT1'; format = 'D'\n",
       "    name = 'CTYPE2'; format = '4A'\n",
       "    name = 'CRVAL2'; format = 'D'\n",
       "    name = 'CTYPE3'; format = '4A'\n",
       "    name = 'CRVAL3'; format = 'D'\n",
       "    name = 'CRVAL4'; format = 'I'\n",
       "    name = 'OBSERVER'; format = '32A'\n",
       "    name = 'OBSID'; format = '32A'\n",
       "    name = 'SCAN'; format = 'J'\n",
       "    name = 'OBSMODE'; format = '32A'\n",
       "    name = 'FRONTEND'; format = '16A'\n",
       "    name = 'TCAL'; format = 'D'\n",
       "    name = 'VELDEF'; format = '8A'\n",
       "    name = 'VFRAME'; format = 'D'\n",
       "    name = 'RVSYS'; format = 'D'\n",
       "    name = 'OBSFREQ'; format = 'D'\n",
       "    name = 'LST'; format = 'D'\n",
       "    name = 'AZIMUTH'; format = 'D'\n",
       "    name = 'ELEVATIO'; format = 'D'\n",
       "    name = 'TAMBIENT'; format = 'D'\n",
       "    name = 'PRESSURE'; format = 'D'\n",
       "    name = 'HUMIDITY'; format = 'D'\n",
       "    name = 'RESTFREQ'; format = 'D'\n",
       "    name = 'DOPFREQ'; format = 'D'\n",
       "    name = 'FREQRES'; format = 'D'\n",
       "    name = 'EQUINOX'; format = 'D'\n",
       "    name = 'RADESYS'; format = '8A'\n",
       "    name = 'TRGTLONG'; format = 'D'\n",
       "    name = 'TRGTLAT'; format = 'D'\n",
       "    name = 'SAMPLER'; format = '8A'\n",
       "    name = 'FEED'; format = 'I'\n",
       "    name = 'SRFEED'; format = 'I'\n",
       "    name = 'FEEDXOFF'; format = 'D'\n",
       "    name = 'FEEDEOFF'; format = 'D'\n",
       "    name = 'SUBREF_STATE'; format = 'I'\n",
       "    name = 'SIDEBAND'; format = 'A'\n",
       "    name = 'PROCSEQN'; format = 'I'\n",
       "    name = 'PROCSIZE'; format = 'I'\n",
       "    name = 'PROCSCAN'; format = '16A'\n",
       "    name = 'PROCTYPE'; format = '16A'\n",
       "    name = 'LASTON'; format = 'J'\n",
       "    name = 'LASTOFF'; format = 'J'\n",
       "    name = 'TIMESTAMP'; format = '22A'\n",
       "    name = 'QD_XEL'; format = 'D'\n",
       "    name = 'QD_EL'; format = 'D'\n",
       "    name = 'QD_BAD'; format = 'I'\n",
       "    name = 'QD_METHOD'; format = 'A'\n",
       "    name = 'VELOCITY'; format = 'D'\n",
       "    name = 'FOFFREF1'; format = 'D'\n",
       "    name = 'ZEROCHAN'; format = 'E'\n",
       "    name = 'ADCSAMPF'; format = 'D'\n",
       "    name = 'VSPDELT'; format = 'D'\n",
       "    name = 'VSPRVAL'; format = 'D'\n",
       "    name = 'VSPRPIX'; format = 'D'\n",
       "    name = 'SIG'; format = 'A'\n",
       "    name = 'CAL'; format = 'A'\n",
       "    name = 'CALTYPE'; format = '8A'\n",
       "    name = 'TWARM'; format = 'E'\n",
       "    name = 'TCOLD'; format = 'E'\n",
       "    name = 'CALPOSITION'; format = '16A'\n",
       "    name = 'BACKEND'; format = '32A'\n",
       "    name = 'PROJID'; format = '32A'\n",
       "    name = 'TELESCOP'; format = '32A'\n",
       "    name = 'SITELONG'; format = 'D'\n",
       "    name = 'SITELAT'; format = 'D'\n",
       "    name = 'SITEELEV'; format = 'D'\n",
       "    name = 'IFNUM'; format = 'I'\n",
       "    name = 'PLNUM'; format = 'I'\n",
       "    name = 'FDNUM'; format = 'I'\n",
       "    name = 'INT'; format = 'J'\n",
       "    name = 'NSAVE'; format = 'J'\n",
       ")"
      ]
     },
     "execution_count": 15,
     "metadata": {},
     "output_type": "execute_result"
    }
   ],
   "source": [
    "b.columns"
   ]
  },
  {
   "cell_type": "markdown",
   "metadata": {},
   "source": [
    "# Create an index"
   ]
  },
  {
   "cell_type": "code",
   "execution_count": 16,
   "metadata": {},
   "outputs": [
    {
     "name": "stdout",
     "output_type": "stream",
     "text": [
      "0: M31Halo_105_025        \t(1, 0)\n",
      "1: M31Halo_285_025        \t(1, 1)\n",
      "2: RXJ0048.3+3941         \t(2, 0)\n",
      "3: M31Halo_075_025        \t(3, 0)\n",
      "4: M31Halo_000_025        \t(3, 1)\n",
      "5: SDSSJ003125.36+403222.0   \t(3, 2)\n",
      "6: HS0033+4300            \t(4, 0)\n",
      "7: LAMOST005016.63+391639.0   \t(5, 0)\n",
      "8: LAMOST003432.52+391836.1   \t(5, 1)\n",
      "9: LAMOST004706.09+384843.9   \t(5, 2)\n",
      "10: NPM1G+43.0016          \t(5, 3)\n",
      "11: M31Halo_075_040        \t(5, 4)\n",
      "12: M31Halo_145_040        \t(5, 5)\n",
      "13: GALEXJ002912+433216    \t(5, 6)\n",
      "14: M31Halo_285_045        \t(5, 7)\n",
      "15: M31Halo_200_045        \t(5, 8)\n",
      "16: M31Halo_000_045        \t(5, 9)\n",
      "17: M31Halo_105_045        \t(5, 10)\n",
      "18: HS0058+4213            \t(6, 0)\n",
      "19: RXSJ0043.6+372521      \t(7, 0)\n",
      "20: SDSSJ002827.06+380942.0   \t(8, 0)\n",
      "21: ZW535.012              \t(9, 0)\n",
      "22: UVQSJ001903.85+423809.0   \t(10, 0)\n",
      "23: SDSSJ005547.99+451410.9   \t(10, 1)\n",
      "24: Q0030+3700             \t(11, 0)\n",
      "25: LAMOST005846.82+365514.2   \t(12, 0)\n",
      "26: BLANK                  \t(13, 0)\n",
      "27: MS0108.4+3859          \t(14, 0)\n",
      "28: RXSJ005050.6+353645    \t(15, 0)\n",
      "29: GALEXJ001036+400314    \t(16, 0)\n",
      "30: 2E0111.0+3851          \t(17, 0)\n",
      "31: M31Halo_000_085        \t(18, 0)\n",
      "32: M31Halo_210_085        \t(18, 1)\n",
      "33: M31Halo_030_085        \t(18, 2)\n",
      "34: M31Halo_330_085        \t(18, 3)\n",
      "35: LAMOST011724.84+435335.9   \t(18, 4)\n",
      "36: MRK971                 \t(18, 5)\n",
      "37: IRAS00040+4325         \t(19, 0)\n",
      "38: RXSJ011848.2+383626    \t(19, 1)\n",
      "39: HS0010+3611            \t(20, 0)\n",
      "40: SDSSJ012400.59+410709.7   \t(20, 1)\n",
      "41: RXJ0117.7+3637         \t(21, 0)\n",
      "42: SDSSJ001847.44+341209.5   \t(21, 1)\n",
      "43: SDSSJ012048.92+464344.9   \t(22, 0)\n",
      "44: SDSSJ013115.62+411704.3   \t(22, 1)\n",
      "45: SDSSJ000443.83+353755.0   \t(22, 2)\n",
      "46: M31Halo_105_130        \t(22, 3)\n",
      "47: M31Halo_295_130        \t(22, 4)\n",
      "48: M31Halo_075_130        \t(22, 5)\n",
      "49: MRK352                 \t(23, 0)\n",
      "50: M31Halo_030_135        \t(24, 0)\n",
      "51: M31Halo_270_135        \t(24, 1)\n",
      "52: M31Halo_000_135        \t(24, 2)\n",
      "53: RXJ0028.1+3103         \t(25, 0)\n",
      "54: LAMOST011500.94+324519.5   \t(26, 0)\n",
      "55: NGC513                 \t(27, 0)\n",
      "56: 4C49.48                \t(28, 0)\n",
      "57: NGC315                 \t(28, 1)\n",
      "58: KAZ238                 \t(29, 0)\n",
      "59: MRK1158                \t(29, 1)\n",
      "60: 4C44.04                \t(30, 0)\n",
      "61: 2MASSJ00413+2816       \t(31, 0)\n",
      "62: SDSSJ233811.91+472323.5   \t(32, 0)\n",
      "63: M31Halo_000_175        \t(32, 1)\n",
      "64: FBS0150+396            \t(33, 0)\n",
      "65: LAMOST012400.31+304003.0   \t(34, 0)\n",
      "66: 3C48                   \t(35, 0)\n",
      "67: UVQSJ005617.72+275349.7   \t(36, 0)\n",
      "68: CGCG498-038            \t(36, 1)\n",
      "69: 4C25.01                \t(37, 0)\n",
      "70: PG0052+251             \t(37, 1)\n",
      "71: 2MASSJ00294+2424       \t(38, 0)\n",
      "72: RXSJ015536.7+311525    \t(38, 1)\n",
      "73: RBS2055                \t(39, 0)\n",
      "74: RBS2061                \t(39, 1)\n",
      "75: UVQSJ021621.18+371028.3   \t(40, 0)\n",
      "76: 3C66A                  \t(41, 0)\n",
      "77: RXJ0053.7+2232         \t(42, 0)\n",
      "78: MRK930                 \t(42, 1)\n",
      "79: RXJ0048.7+2127         \t(43, 0)\n",
      "80: MRK357                 \t(43, 1)\n",
      "81: 3C59                   \t(43, 2)\n",
      "82: PG0117+213             \t(44, 0)\n",
      "83: HS0137+2329            \t(45, 0)\n",
      "84: KUV02196+3253          \t(45, 1)\n",
      "85: RXJ0029.0+1957         \t(46, 0)\n",
      "86: RXJ0044.9+1921         \t(47, 0)\n",
      "87: MRK335                 \t(47, 1)\n",
      "88: UGC1098                \t(47, 2)\n",
      "89: RXSJ023231.4+340435    \t(47, 3)\n",
      "90: RXSJ225148.5+341937    \t(47, 4)\n",
      "91: MRK1148                \t(48, 0)\n",
      "92: RBS2005                \t(49, 0)\n",
      "93: MRK1179                \t(49, 1)\n",
      "94: PG0003+158             \t(49, 2)\n",
      "95: UGC12163               \t(49, 3)\n"
     ]
    }
   ],
   "source": [
    "# Counter variable\n",
    "i=0\n",
    "# Outputs\n",
    "indx=[]\n",
    "object_names = []\n",
    "array_indeces = []\n",
    "\n",
    "for j in np.arange(1,np.size(a)):\n",
    "    xxx = a[j].data\n",
    "    for k in np.arange(np.size(xxx)):\n",
    "        indx.append(i)\n",
    "        object_names.append(xxx['OBJECT'][k])\n",
    "        array_indeces.append((j,k))\n",
    "\n",
    "        print(\"{0}: {1:20s}   \\t{2}\".format(i,\n",
    "            object_names[i],array_indeces[i]))\n",
    "        # Advance the counter\n",
    "        i+=1"
   ]
  },
  {
   "cell_type": "code",
   "execution_count": 17,
   "metadata": {},
   "outputs": [],
   "source": [
    "tbl = Table([indx,object_names,array_indeces],\n",
    "                        names=['INDX','OBJECT','ARRAY_INDECES'])"
   ]
  },
  {
   "cell_type": "code",
   "execution_count": 18,
   "metadata": {},
   "outputs": [
    {
     "data": {
      "text/html": [
       "<i>Table length=5</i>\n",
       "<table id=\"table4846457184\" class=\"table-striped table-bordered table-condensed\">\n",
       "<thead><tr><th>INDX</th><th>OBJECT</th><th>ARRAY_INDECES [2]</th></tr></thead>\n",
       "<thead><tr><th>int64</th><th>str24</th><th>int64</th></tr></thead>\n",
       "<tr><td>0</td><td>M31Halo_105_025</td><td>1 .. 0</td></tr>\n",
       "<tr><td>1</td><td>M31Halo_285_025</td><td>1 .. 1</td></tr>\n",
       "<tr><td>2</td><td>RXJ0048.3+3941</td><td>2 .. 0</td></tr>\n",
       "<tr><td>3</td><td>M31Halo_075_025</td><td>3 .. 0</td></tr>\n",
       "<tr><td>4</td><td>M31Halo_000_025</td><td>3 .. 1</td></tr>\n",
       "</table>"
      ],
      "text/plain": [
       "<Table length=5>\n",
       " INDX      OBJECT     ARRAY_INDECES [2]\n",
       "int64      str24            int64      \n",
       "----- --------------- -----------------\n",
       "    0 M31Halo_105_025            1 .. 0\n",
       "    1 M31Halo_285_025            1 .. 1\n",
       "    2  RXJ0048.3+3941            2 .. 0\n",
       "    3 M31Halo_075_025            3 .. 0\n",
       "    4 M31Halo_000_025            3 .. 1"
      ]
     },
     "execution_count": 18,
     "metadata": {},
     "output_type": "execute_result"
    }
   ],
   "source": [
    "tbl[0:5]"
   ]
  },
  {
   "cell_type": "code",
   "execution_count": 19,
   "metadata": {},
   "outputs": [
    {
     "data": {
      "text/plain": [
       "array([3, 2])"
      ]
     },
     "execution_count": 19,
     "metadata": {},
     "output_type": "execute_result"
    }
   ],
   "source": [
    "tbl['ARRAY_INDECES'][5]"
   ]
  },
  {
   "cell_type": "code",
   "execution_count": 22,
   "metadata": {},
   "outputs": [
    {
     "data": {
      "text/html": [
       "&lt;Column name=&apos;INDX&apos; dtype=&apos;int64&apos; length=5&gt;\n",
       "<table>\n",
       "<tr><td>0</td></tr>\n",
       "<tr><td>1</td></tr>\n",
       "<tr><td>2</td></tr>\n",
       "<tr><td>3</td></tr>\n",
       "<tr><td>4</td></tr>\n",
       "</table>"
      ],
      "text/plain": [
       "<Column name='INDX' dtype='int64' length=5>\n",
       "0\n",
       "1\n",
       "2\n",
       "3\n",
       "4"
      ]
     },
     "execution_count": 22,
     "metadata": {},
     "output_type": "execute_result"
    }
   ],
   "source": [
    "tbl[tbl.colnames[0]][0:5]"
   ]
  },
  {
   "cell_type": "markdown",
   "metadata": {},
   "source": [
    "### An aside: testing valid inputs"
   ]
  },
  {
   "cell_type": "code",
   "execution_count": 20,
   "metadata": {},
   "outputs": [],
   "source": [
    "def example():\n",
    "    max_time = 7\n",
    "    \n",
    "    # Calls for an infinite loop that keeps executing\n",
    "    # until an exception occurs\n",
    "    valid = False\n",
    "    while valid == False:\n",
    "        try:\n",
    "            test4num = int(input(\"From 1 to 7, how many hours do you play in your mobile?\" ))\n",
    "\n",
    "        # If something else that is not the string\n",
    "        # version of a number is introduced, the\n",
    "        # ValueError exception will be called.\n",
    "        except:\n",
    "            # The cycle will go on until validation\n",
    "            print(\"Error! This is not a number. Try again.\")\n",
    "\n",
    "        # When successfully converted to an integer,\n",
    "        # the loop will end.\n",
    "        if test4num <= max_time:\n",
    "            valid = True\n",
    "            print(\"Impressive! You spent\", test4num*60, \n",
    "                  \"minutes or\", test4num*60*60, \"seconds in your mobile!\")\n",
    "            break\n",
    "        else:\n",
    "            print(\"Your answer is outside the allowed range.\")"
   ]
  },
  {
   "cell_type": "code",
   "execution_count": 21,
   "metadata": {},
   "outputs": [
    {
     "name": "stdin",
     "output_type": "stream",
     "text": [
      "From 1 to 7, how many hours do you play in your mobile? 9\n"
     ]
    },
    {
     "name": "stdout",
     "output_type": "stream",
     "text": [
      "Your answer is outside the allowed range.\n"
     ]
    },
    {
     "name": "stdin",
     "output_type": "stream",
     "text": [
      "From 1 to 7, how many hours do you play in your mobile? 7\n"
     ]
    },
    {
     "name": "stdout",
     "output_type": "stream",
     "text": [
      "Impressive! You spent 420 minutes or 25200 seconds in your mobile!\n"
     ]
    }
   ],
   "source": [
    "example()"
   ]
  },
  {
   "cell_type": "code",
   "execution_count": null,
   "metadata": {},
   "outputs": [],
   "source": []
  }
 ],
 "metadata": {
  "kernelspec": {
   "display_name": "Python 3",
   "language": "python",
   "name": "python3"
  },
  "language_info": {
   "codemirror_mode": {
    "name": "ipython",
    "version": 3
   },
   "file_extension": ".py",
   "mimetype": "text/x-python",
   "name": "python",
   "nbconvert_exporter": "python",
   "pygments_lexer": "ipython3",
   "version": "3.7.7"
  }
 },
 "nbformat": 4,
 "nbformat_minor": 4
}
