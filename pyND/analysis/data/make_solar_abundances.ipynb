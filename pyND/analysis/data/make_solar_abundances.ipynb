{
 "cells": [
  {
   "cell_type": "markdown",
   "metadata": {},
   "source": [
    "# Create the reference solar abundance file\n",
    "\n",
    "Here we join the Asplund+ (2009) data with other sources of information to create our output `solar_abundances.fits` file."
   ]
  },
  {
   "cell_type": "code",
   "execution_count": 1,
   "metadata": {},
   "outputs": [],
   "source": [
    "output_file = 'solarabundances.fits'"
   ]
  },
  {
   "cell_type": "code",
   "execution_count": 2,
   "metadata": {},
   "outputs": [],
   "source": [
    "import matplotlib.pyplot as plt\n",
    "import numpy as np\n",
    "from astropy.io import fits\n",
    "from astropy.table import Table,Column,join"
   ]
  },
  {
   "cell_type": "markdown",
   "metadata": {},
   "source": [
    "## Read in the Asplund+ (2009) data \n",
    "*For convenience, cull to Z < 75.* "
   ]
  },
  {
   "cell_type": "code",
   "execution_count": 3,
   "metadata": {},
   "outputs": [],
   "source": [
    "fl = 'asplund2009_abundances.txt'\n",
    "asplund = Table.read(fl,format='ascii',comment=';')\n",
    "asplund.remove_column('DIFF_PH_MET')\n",
    "\n",
    "#Excise Z>75 data\n",
    "gd = (asplund['Z'] <= 75)\n",
    "solar = asplund[gd]"
   ]
  },
  {
   "cell_type": "markdown",
   "metadata": {},
   "source": [
    "Add column for references:"
   ]
  },
  {
   "cell_type": "code",
   "execution_count": 4,
   "metadata": {},
   "outputs": [],
   "source": [
    "reference_column = Column(['Asplund+ (2009)']*np.size(solar), name='Reference', dtype='U30')\n",
    "solar.add_column(reference_column)"
   ]
  },
  {
   "cell_type": "markdown",
   "metadata": {},
   "source": [
    "Simple text list of element names:"
   ]
  },
  {
   "cell_type": "code",
   "execution_count": 5,
   "metadata": {},
   "outputs": [],
   "source": [
    "element_names=np.chararray.strip(solar['ELEMENT'])"
   ]
  },
  {
   "cell_type": "markdown",
   "metadata": {},
   "source": [
    "# Oxygen...issues."
   ]
  },
  {
   "cell_type": "code",
   "execution_count": 6,
   "metadata": {},
   "outputs": [
    {
     "data": {
      "text/html": [
       "<i>Table length=1</i>\n",
       "<table id=\"table4743538728\" class=\"table-striped table-bordered table-condensed\">\n",
       "<thead><tr><th>Z</th><th>ELEMENT</th><th>PHOTO</th><th>PHOTO_ERR</th><th>METEOR</th><th>METEOR_ERR</th><th>BEST</th><th>ERR</th><th>Reference</th></tr></thead>\n",
       "<thead><tr><th>int64</th><th>str2</th><th>float64</th><th>float64</th><th>float64</th><th>float64</th><th>float64</th><th>float64</th><th>str30</th></tr></thead>\n",
       "<tr><td>8</td><td>O</td><td>8.69</td><td>0.05</td><td>8.4</td><td>0.04</td><td>8.69</td><td>0.05</td><td>Asplund+ (2009)</td></tr>\n",
       "</table>"
      ],
      "text/plain": [
       "<Table length=1>\n",
       "  Z   ELEMENT  PHOTO  PHOTO_ERR ... METEOR_ERR   BEST    ERR      Reference   \n",
       "int64   str2  float64  float64  ...  float64   float64 float64      str30     \n",
       "----- ------- ------- --------- ... ---------- ------- ------- ---------------\n",
       "    8       O    8.69      0.05 ...       0.04    8.69    0.05 Asplund+ (2009)"
      ]
     },
     "execution_count": 6,
     "metadata": {},
     "output_type": "execute_result"
    }
   ],
   "source": [
    "o_indx = np.where((element_names.lower() == 'O'.lower()))\n",
    "solar[o_indx]"
   ]
  },
  {
   "cell_type": "markdown",
   "metadata": {},
   "source": [
    "## Adopt the Steffen+ (2015) oxygen abundance"
   ]
  },
  {
   "cell_type": "code",
   "execution_count": 7,
   "metadata": {},
   "outputs": [
    {
     "name": "stdout",
     "output_type": "stream",
     "text": [
      "Old O mass fraction: 0.00578\n",
      "New O mass fraction: 0.00680\n"
     ]
    }
   ],
   "source": [
    "steffen = [8.76, 0.02]\n",
    "\n",
    "solar['BEST'][o_indx] = steffen[0] # Steffen abundance\n",
    "solar['ERR'][o_indx] = steffen[1]\n",
    "\n",
    "solar['PHOTO'][o_indx] = steffen[0] # Steffen abundance\n",
    "solar['PHOTO_ERR'][o_indx] = steffen[1]\n",
    "\n",
    "solar['Reference'][o_indx] = 'Steffen+ (2015)'\n",
    "\n",
    "#Total mass:\n",
    "mmm = (10.**(solar['PHOTO'][0]-12.)/0.7381)\n",
    "#Old oxygen mass:\n",
    "print(\"Old O mass fraction: {0:0.5f}\".format((10.**(asplund['PHOTO'][o_indx]-12.)*16./mmm)[0]))\n",
    "#New oxygen mass:\n",
    "print(\"New O mass fraction: {0:0.5f}\".format((10.**(solar['BEST'][o_indx]-12.)*16./mmm)[0]))"
   ]
  },
  {
   "cell_type": "code",
   "execution_count": 8,
   "metadata": {},
   "outputs": [
    {
     "data": {
      "text/html": [
       "<i>Table length=1</i>\n",
       "<table id=\"table4743853952\" class=\"table-striped table-bordered table-condensed\">\n",
       "<thead><tr><th>Z</th><th>ELEMENT</th><th>PHOTO</th><th>PHOTO_ERR</th><th>METEOR</th><th>METEOR_ERR</th><th>BEST</th><th>ERR</th><th>Reference</th></tr></thead>\n",
       "<thead><tr><th>int64</th><th>str2</th><th>float64</th><th>float64</th><th>float64</th><th>float64</th><th>float64</th><th>float64</th><th>str30</th></tr></thead>\n",
       "<tr><td>8</td><td>O</td><td>8.76</td><td>0.02</td><td>8.4</td><td>0.04</td><td>8.76</td><td>0.02</td><td>Steffen+ (2015)</td></tr>\n",
       "</table>"
      ],
      "text/plain": [
       "<Table length=1>\n",
       "  Z   ELEMENT  PHOTO  PHOTO_ERR ... METEOR_ERR   BEST    ERR      Reference   \n",
       "int64   str2  float64  float64  ...  float64   float64 float64      str30     \n",
       "----- ------- ------- --------- ... ---------- ------- ------- ---------------\n",
       "    8       O    8.76      0.02 ...       0.04    8.76    0.02 Steffen+ (2015)"
      ]
     },
     "execution_count": 8,
     "metadata": {},
     "output_type": "execute_result"
    }
   ],
   "source": [
    "solar[o_indx]"
   ]
  },
  {
   "cell_type": "markdown",
   "metadata": {},
   "source": [
    "## Adopt the Amarsi+ (2018) oxygen abundance\n",
    "\n",
    "Amarsi+ (2018) have questioned the results of Steffen+ (2015). Their derived abundance is equivalent to the original Asplund version. It appears the solar oxygen abundance is still in question."
   ]
  },
  {
   "cell_type": "code",
   "execution_count": 9,
   "metadata": {},
   "outputs": [
    {
     "name": "stdout",
     "output_type": "stream",
     "text": [
      "Old O mass fraction: 0.00578\n",
      "New O mass fraction: 0.00578\n"
     ]
    }
   ],
   "source": [
    "amarsi = [8.69, 0.03]\n",
    "\n",
    "solar['BEST'][o_indx] = amarsi[0] # Steffen abundance\n",
    "solar['ERR'][o_indx] = amarsi[1]\n",
    "\n",
    "solar['PHOTO'][o_indx] = amarsi[0] # Steffen abundance\n",
    "solar['PHOTO_ERR'][o_indx] = amarsi[1]\n",
    "\n",
    "solar['Reference'][o_indx] = 'Amarsi+ (2018);Asplund+ (2009)'\n",
    "\n",
    "#Total mass:\n",
    "mmm = (10.**(solar['PHOTO'][0]-12.)/0.7381)\n",
    "#Old oxygen mass:\n",
    "print(\"Old O mass fraction: {0:0.5f}\".format((10.**(asplund['PHOTO'][o_indx]-12.)*16./mmm)[0]))\n",
    "#New oxygen mass:\n",
    "print(\"New O mass fraction: {0:0.5f}\".format((10.**(solar['BEST'][o_indx]-12.)*16./mmm)[0]))"
   ]
  },
  {
   "cell_type": "code",
   "execution_count": 10,
   "metadata": {},
   "outputs": [
    {
     "data": {
      "text/html": [
       "<i>Table length=1</i>\n",
       "<table id=\"table4728928016\" class=\"table-striped table-bordered table-condensed\">\n",
       "<thead><tr><th>Z</th><th>ELEMENT</th><th>PHOTO</th><th>PHOTO_ERR</th><th>METEOR</th><th>METEOR_ERR</th><th>BEST</th><th>ERR</th><th>Reference</th></tr></thead>\n",
       "<thead><tr><th>int64</th><th>str2</th><th>float64</th><th>float64</th><th>float64</th><th>float64</th><th>float64</th><th>float64</th><th>str30</th></tr></thead>\n",
       "<tr><td>8</td><td>O</td><td>8.69</td><td>0.03</td><td>8.4</td><td>0.04</td><td>8.69</td><td>0.03</td><td>Amarsi+ (2018);Asplund+ (2009)</td></tr>\n",
       "</table>"
      ],
      "text/plain": [
       "<Table length=1>\n",
       "  Z   ELEMENT  PHOTO  ...   BEST    ERR             Reference           \n",
       "int64   str2  float64 ... float64 float64             str30             \n",
       "----- ------- ------- ... ------- ------- ------------------------------\n",
       "    8       O    8.69 ...    8.69    0.03 Amarsi+ (2018);Asplund+ (2009)"
      ]
     },
     "execution_count": 10,
     "metadata": {},
     "output_type": "execute_result"
    }
   ],
   "source": [
    "solar[o_indx]"
   ]
  },
  {
   "cell_type": "markdown",
   "metadata": {},
   "source": [
    "## Add mean atomic mass"
   ]
  },
  {
   "cell_type": "code",
   "execution_count": 11,
   "metadata": {},
   "outputs": [],
   "source": [
    "iso = Table.read('isotopes.dat',format='ascii',comment=';;')\n",
    "iso.keep_columns(['Z','AtomicWeight'])\n",
    "atoms = join(solar,iso,keys='Z')"
   ]
  },
  {
   "cell_type": "markdown",
   "metadata": {},
   "source": [
    "Now we have all the information we want in the combined table `atoms`."
   ]
  },
  {
   "cell_type": "code",
   "execution_count": 12,
   "metadata": {},
   "outputs": [
    {
     "data": {
      "text/html": [
       "<i>Table length=5</i>\n",
       "<table id=\"table4743855968\" class=\"table-striped table-bordered table-condensed\">\n",
       "<thead><tr><th>Z</th><th>ELEMENT</th><th>PHOTO</th><th>PHOTO_ERR</th><th>METEOR</th><th>METEOR_ERR</th><th>BEST</th><th>ERR</th><th>Reference</th><th>AtomicWeight</th></tr></thead>\n",
       "<thead><tr><th>int64</th><th>str2</th><th>float64</th><th>float64</th><th>float64</th><th>float64</th><th>float64</th><th>float64</th><th>str30</th><th>float64</th></tr></thead>\n",
       "<tr><td>1</td><td>H</td><td>12.0</td><td>30.0</td><td>8.22</td><td>0.04</td><td>12.0</td><td>0.0</td><td>Asplund+ (2009)</td><td>1.0079</td></tr>\n",
       "<tr><td>2</td><td>He</td><td>10.93</td><td>0.01</td><td>1.29</td><td>30.0</td><td>10.93</td><td>0.01</td><td>Asplund+ (2009)</td><td>4.002602</td></tr>\n",
       "<tr><td>3</td><td>Li</td><td>1.05</td><td>0.1</td><td>3.26</td><td>0.05</td><td>3.26</td><td>0.05</td><td>Asplund+ (2009)</td><td>6.968</td></tr>\n",
       "<tr><td>4</td><td>Be</td><td>1.38</td><td>0.09</td><td>1.3</td><td>0.03</td><td>1.31</td><td>0.03</td><td>Asplund+ (2009)</td><td>9.01218</td></tr>\n",
       "<tr><td>5</td><td>B</td><td>2.7</td><td>0.2</td><td>2.79</td><td>0.04</td><td>2.79</td><td>0.04</td><td>Asplund+ (2009)</td><td>10.813</td></tr>\n",
       "</table>"
      ],
      "text/plain": [
       "<Table length=5>\n",
       "  Z   ELEMENT  PHOTO  PHOTO_ERR ...   BEST    ERR      Reference    AtomicWeight\n",
       "int64   str2  float64  float64  ... float64 float64      str30        float64   \n",
       "----- ------- ------- --------- ... ------- ------- --------------- ------------\n",
       "    1       H    12.0      30.0 ...    12.0     0.0 Asplund+ (2009)       1.0079\n",
       "    2      He   10.93      0.01 ...   10.93    0.01 Asplund+ (2009)     4.002602\n",
       "    3      Li    1.05       0.1 ...    3.26    0.05 Asplund+ (2009)        6.968\n",
       "    4      Be    1.38      0.09 ...    1.31    0.03 Asplund+ (2009)      9.01218\n",
       "    5       B     2.7       0.2 ...    2.79    0.04 Asplund+ (2009)       10.813"
      ]
     },
     "execution_count": 12,
     "metadata": {},
     "output_type": "execute_result"
    }
   ],
   "source": [
    "atoms[0:5]"
   ]
  },
  {
   "cell_type": "markdown",
   "metadata": {},
   "source": [
    "## Write to output file"
   ]
  },
  {
   "cell_type": "code",
   "execution_count": 13,
   "metadata": {},
   "outputs": [],
   "source": [
    "atoms.write(output_file,overwrite=True)"
   ]
  },
  {
   "cell_type": "markdown",
   "metadata": {},
   "source": [
    "## Mean metal abundances by mass"
   ]
  },
  {
   "cell_type": "code",
   "execution_count": 156,
   "metadata": {},
   "outputs": [],
   "source": [
    "# The abundance by mass:\n",
    "eps = (10.**(atoms['BEST']-12.)*atoms['AtomicWeight']).data\n",
    "total_mass = eps.sum()"
   ]
  },
  {
   "cell_type": "code",
   "execution_count": 157,
   "metadata": {},
   "outputs": [
    {
     "data": {
      "image/png": "[encoded data removed]",
      "text/plain": [
       "<Figure size 432x288 with 1 Axes>"
      ]
     },
     "metadata": {
      "image/png": {
       "height": 247,
       "width": 378
      },
      "needs_background": "light"
     },
     "output_type": "display_data"
    }
   ],
   "source": [
    "plt.plot(atoms['Z'],np.log10(eps/total_mass),'ro-',markersize=4,lw=1);"
   ]
  },
  {
   "cell_type": "markdown",
   "metadata": {},
   "source": [
    "## Calculate X, Y, Z"
   ]
  },
  {
   "cell_type": "code",
   "execution_count": 158,
   "metadata": {},
   "outputs": [],
   "source": [
    "X = eps[0]/total_mass\n",
    "Y = eps[1]/total_mass"
   ]
  },
  {
   "cell_type": "code",
   "execution_count": 159,
   "metadata": {},
   "outputs": [],
   "source": [
    "zzz = (atoms['Z'] > 2)\n",
    "Z = eps[zzz].sum()/total_mass"
   ]
  },
  {
   "cell_type": "code",
   "execution_count": 160,
   "metadata": {},
   "outputs": [
    {
     "name": "stdout",
     "output_type": "stream",
     "text": [
      "\n",
      "Mean abundances by mass: X=H, Y=He, Z=metals; mean mass per H atom, µ.\n",
      "\n",
      "\tX = 0.7376\n",
      "\tY = 0.2493\n",
      "\tZ = 0.0131\n",
      "\tµ = 1.3558\n"
     ]
    }
   ],
   "source": [
    "print(\"\\nMean abundances by mass: X=H, Y=He, Z=metals; mean mass per H atom, µ.\\n\")\n",
    "print(\"\\tX = {0:0.4f}\".format(X))\n",
    "print(\"\\tY = {0:0.4f}\".format(Y))\n",
    "print(\"\\tZ = {0:0.4f}\".format(Z))\n",
    "print(\"\\tµ = {0:0.4f}\".format(1./X))"
   ]
  },
  {
   "cell_type": "markdown",
   "metadata": {},
   "source": [
    "```\n",
    "``` Thus the metal mass fraction in the solar system is **Z = 0.0131**.\n",
    "\n",
    "The mean mass per H is **µ = 1.36.**"
   ]
  }
 ],
 "metadata": {
  "kernelspec": {
   "display_name": "Python 3",
   "language": "python",
   "name": "python3"
  },
  "language_info": {
   "codemirror_mode": {
    "name": "ipython",
    "version": 3
   },
   "file_extension": ".py",
   "mimetype": "text/x-python",
   "name": "python",
   "nbconvert_exporter": "python",
   "pygments_lexer": "ipython3",
   "version": "3.7.1"
  }
 },
 "nbformat": 4,
 "nbformat_minor": 2
}
