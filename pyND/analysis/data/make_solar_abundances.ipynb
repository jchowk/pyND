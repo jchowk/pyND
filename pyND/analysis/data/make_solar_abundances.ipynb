{
 "cells": [
  {
   "cell_type": "markdown",
   "metadata": {},
   "source": [
    "# Create the reference solar abundance file\n",
    "\n",
    "Here we join the Asplund+ (2009) data with other sources of information to create our output `solar_abundances.fits` file."
   ]
  },
  {
   "cell_type": "code",
   "execution_count": 2,
   "metadata": {},
   "outputs": [],
   "source": [
    "output_file = 'solarabundances.fits'"
   ]
  },
  {
   "cell_type": "code",
   "execution_count": 3,
   "metadata": {},
   "outputs": [],
   "source": [
    "import matplotlib.pyplot as plt\n",
    "import numpy as np\n",
    "from astropy.io import fits\n",
    "from astropy.table import Table,Column,join"
   ]
  },
  {
   "cell_type": "code",
   "execution_count": null,
   "metadata": {},
   "outputs": [],
   "source": []
  },
  {
   "cell_type": "markdown",
   "metadata": {},
   "source": [
    "## Read in the Asplund+ (2021) data "
   ]
  },
  {
   "cell_type": "code",
   "execution_count": 31,
   "metadata": {},
   "outputs": [],
   "source": [
    "fl = 'asplund2021_abundances.csv'\n",
    "asplund = Table.read(fl)\n",
    "solar = asplund.copy()"
   ]
  },
  {
   "cell_type": "markdown",
   "metadata": {},
   "source": [
    "Add column for references:"
   ]
  },
  {
   "cell_type": "code",
   "execution_count": 32,
   "metadata": {},
   "outputs": [],
   "source": [
    "reference_column = Column(['Asplund+ (2021)']*np.size(solar), name='Reference', dtype='U30')\n",
    "solar.add_column(reference_column)"
   ]
  },
  {
   "cell_type": "markdown",
   "metadata": {},
   "source": [
    "## Add mean atomic mass"
   ]
  },
  {
   "cell_type": "code",
   "execution_count": 33,
   "metadata": {},
   "outputs": [],
   "source": [
    "iso = Table.read('isotopes.dat',format='ascii',comment=';;')\n",
    "iso.keep_columns(['Z','AtomicWeight'])"
   ]
  },
  {
   "cell_type": "markdown",
   "metadata": {},
   "source": [
    "Now we need to create dummy masses for total abundances"
   ]
  },
  {
   "cell_type": "code",
   "execution_count": 34,
   "metadata": {},
   "outputs": [],
   "source": [
    "zzz = np.arange(100,106)\n",
    "\n",
    "for j in np.arange(len(zzz)):\n",
    "    iso.add_row([zzz[j],0])"
   ]
  },
  {
   "cell_type": "code",
   "execution_count": 35,
   "metadata": {},
   "outputs": [],
   "source": [
    "atoms = join(solar,iso,keys='Z')"
   ]
  },
  {
   "cell_type": "markdown",
   "metadata": {},
   "source": [
    "Now we have all the information we want in the combined table `atoms`."
   ]
  },
  {
   "cell_type": "code",
   "execution_count": 36,
   "metadata": {},
   "outputs": [
    {
     "data": {
      "text/html": [
       "<div><i>Table length=5</i>\n",
       "<table id=\"table6248502224\" class=\"table-striped table-bordered table-condensed\">\n",
       "<thead><tr><th>Z</th><th>ELEMENT</th><th>PHOTO</th><th>PHOTO_ERR</th><th>METEOR</th><th>METEOR_ERR</th><th>BEST</th><th>ERR</th><th>Reference</th><th>AtomicWeight</th></tr></thead>\n",
       "<thead><tr><th>int64</th><th>str6</th><th>float64</th><th>float64</th><th>float64</th><th>float64</th><th>float64</th><th>float64</th><th>str30</th><th>float64</th></tr></thead>\n",
       "<tr><td>1</td><td>H</td><td>12.0</td><td>0.0</td><td>8.22</td><td>0.04</td><td>12.0</td><td>0.0</td><td>Asplund+ (2021)</td><td>1.0079</td></tr>\n",
       "<tr><td>2</td><td>He</td><td>10.914</td><td>0.013</td><td>1.29</td><td>0.18</td><td>10.914</td><td>0.013</td><td>Asplund+ (2021)</td><td>4.002602</td></tr>\n",
       "<tr><td>3</td><td>Li</td><td>0.96</td><td>0.06</td><td>3.25</td><td>0.04</td><td>3.25</td><td>0.04</td><td>Asplund+ (2021)</td><td>6.968</td></tr>\n",
       "<tr><td>4</td><td>Be</td><td>1.38</td><td>0.09</td><td>1.32</td><td>0.03</td><td>1.38</td><td>0.09</td><td>Asplund+ (2021)</td><td>9.01218</td></tr>\n",
       "<tr><td>5</td><td>B</td><td>2.7</td><td>0.2</td><td>2.79</td><td>0.04</td><td>2.7</td><td>0.2</td><td>Asplund+ (2021)</td><td>10.813</td></tr>\n",
       "</table></div>"
      ],
      "text/plain": [
       "<Table length=5>\n",
       "  Z   ELEMENT  PHOTO  PHOTO_ERR  METEOR ...   BEST    ERR      Reference    AtomicWeight\n",
       "int64   str6  float64  float64  float64 ... float64 float64      str30        float64   \n",
       "----- ------- ------- --------- ------- ... ------- ------- --------------- ------------\n",
       "    1       H    12.0       0.0    8.22 ...    12.0     0.0 Asplund+ (2021)       1.0079\n",
       "    2      He  10.914     0.013    1.29 ...  10.914   0.013 Asplund+ (2021)     4.002602\n",
       "    3      Li    0.96      0.06    3.25 ...    3.25    0.04 Asplund+ (2021)        6.968\n",
       "    4      Be    1.38      0.09    1.32 ...    1.38    0.09 Asplund+ (2021)      9.01218\n",
       "    5       B     2.7       0.2    2.79 ...     2.7     0.2 Asplund+ (2021)       10.813"
      ]
     },
     "execution_count": 36,
     "metadata": {},
     "output_type": "execute_result"
    }
   ],
   "source": [
    "atoms[0:5]"
   ]
  },
  {
   "cell_type": "code",
   "execution_count": 38,
   "metadata": {},
   "outputs": [
    {
     "data": {
      "text/html": [
       "<i>Table length=6</i>\n",
       "<table id=\"table6248664800-199460\" class=\"table-striped table-bordered table-condensed\">\n",
       "<thead><tr><th>idx</th><th>Z</th><th>ELEMENT</th><th>PHOTO</th><th>PHOTO_ERR</th><th>METEOR</th><th>METEOR_ERR</th><th>BEST</th><th>ERR</th><th>Reference</th><th>AtomicWeight</th></tr></thead>\n",
       "<tr><td>0</td><td>100</td><td>Xinit</td><td>-30.0</td><td>-30.0</td><td>-30.0</td><td>-30.0</td><td>0.7121</td><td>-30.0</td><td>Asplund+ (2021)</td><td>0.0</td></tr>\n",
       "<tr><td>1</td><td>101</td><td>Yinit</td><td>-30.0</td><td>-30.0</td><td>-30.0</td><td>-30.0</td><td>0.2725</td><td>-30.0</td><td>Asplund+ (2021)</td><td>0.0</td></tr>\n",
       "<tr><td>2</td><td>102</td><td>Zinit</td><td>-30.0</td><td>-30.0</td><td>-30.0</td><td>-30.0</td><td>0.0154</td><td>-30.0</td><td>Asplund+ (2021)</td><td>0.0</td></tr>\n",
       "<tr><td>3</td><td>103</td><td>Xphoto</td><td>-30.0</td><td>-30.0</td><td>-30.0</td><td>-30.0</td><td>0.7438</td><td>-30.0</td><td>Asplund+ (2021)</td><td>0.0</td></tr>\n",
       "<tr><td>4</td><td>104</td><td>Yphoto</td><td>-30.0</td><td>-30.0</td><td>-30.0</td><td>-30.0</td><td>0.2423</td><td>-30.0</td><td>Asplund+ (2021)</td><td>0.0</td></tr>\n",
       "<tr><td>5</td><td>105</td><td>Zphoto</td><td>-30.0</td><td>-30.0</td><td>-30.0</td><td>-30.0</td><td>0.0139</td><td>-30.0</td><td>Asplund+ (2021)</td><td>0.0</td></tr>\n",
       "</table><style>table.dataTable {clear: both; width: auto !important; margin: 0 !important;}\n",
       ".dataTables_info, .dataTables_length, .dataTables_filter, .dataTables_paginate{\n",
       "display: inline-block; margin-right: 1em; }\n",
       ".paginate_button { margin-right: 5px; }\n",
       "</style>\n",
       "<script>\n",
       "\n",
       "var astropy_sort_num = function(a, b) {\n",
       "    var a_num = parseFloat(a);\n",
       "    var b_num = parseFloat(b);\n",
       "\n",
       "    if (isNaN(a_num) && isNaN(b_num))\n",
       "        return ((a < b) ? -1 : ((a > b) ? 1 : 0));\n",
       "    else if (!isNaN(a_num) && !isNaN(b_num))\n",
       "        return ((a_num < b_num) ? -1 : ((a_num > b_num) ? 1 : 0));\n",
       "    else\n",
       "        return isNaN(a_num) ? -1 : 1;\n",
       "}\n",
       "\n",
       "require.config({paths: {\n",
       "    datatables: 'https://cdn.datatables.net/1.10.12/js/jquery.dataTables.min'\n",
       "}});\n",
       "require([\"datatables\"], function(){\n",
       "    console.log(\"$('#table6248664800-199460').dataTable()\");\n",
       "    \n",
       "jQuery.extend( jQuery.fn.dataTableExt.oSort, {\n",
       "    \"optionalnum-asc\": astropy_sort_num,\n",
       "    \"optionalnum-desc\": function (a,b) { return -astropy_sort_num(a, b); }\n",
       "});\n",
       "\n",
       "    $('#table6248664800-199460').dataTable({\n",
       "        order: [],\n",
       "        pageLength: 50,\n",
       "        lengthMenu: [[10, 25, 50, 100, 500, 1000, -1], [10, 25, 50, 100, 500, 1000, 'All']],\n",
       "        pagingType: \"full_numbers\",\n",
       "        columnDefs: [{targets: [0, 1, 3, 4, 5, 6, 7, 8, 10], type: \"optionalnum\"}]\n",
       "    });\n",
       "});\n",
       "</script>\n"
      ],
      "text/plain": [
       "<IPython.core.display.HTML object>"
      ]
     },
     "execution_count": 38,
     "metadata": {},
     "output_type": "execute_result"
    }
   ],
   "source": [
    "atoms[-6:].show_in_notebook()"
   ]
  },
  {
   "cell_type": "markdown",
   "metadata": {},
   "source": [
    "## Write to output file"
   ]
  },
  {
   "cell_type": "code",
   "execution_count": 39,
   "metadata": {},
   "outputs": [],
   "source": [
    "atoms.write(output_file,overwrite=True)"
   ]
  },
  {
   "cell_type": "markdown",
   "metadata": {},
   "source": [
    "## Mean metal abundances by mass"
   ]
  },
  {
   "cell_type": "code",
   "execution_count": 40,
   "metadata": {},
   "outputs": [],
   "source": [
    "# The abundance by mass:\n",
    "eps = (10.**(atoms['BEST']-12.)*atoms['AtomicWeight']).data\n",
    "total_mass = eps.sum()"
   ]
  },
  {
   "cell_type": "code",
   "execution_count": 45,
   "metadata": {},
   "outputs": [
    {
     "name": "stderr",
     "output_type": "stream",
     "text": [
      "/var/folders/xp/8jbr66bj2b18fmnk_vq23x300000gr/T/ipykernel_83789/3105899659.py:2: RuntimeWarning: divide by zero encountered in log10\n",
      "  plt.plot(atoms['Z'],np.log10(eps/total_mass),'ro-',markersize=4,lw=1);\n"
     ]
    },
    {
     "data": {
      "text/plain": [
       "Text(0, 0.5, 'logarithmic abundance relative to H')"
      ]
     },
     "execution_count": 45,
     "metadata": {},
     "output_type": "execute_result"
    },
    {
     "data": {
      "image/png": "[encoded data removed]",
      "text/plain": [
       "<Figure size 720x432 with 1 Axes>"
      ]
     },
     "metadata": {
      "image/png": {
       "height": 370,
       "width": 613
      },
      "needs_background": "light"
     },
     "output_type": "display_data"
    }
   ],
   "source": [
    "plt.figure(figsize=(10,6))\n",
    "plt.plot(atoms['Z'],np.log10(eps/total_mass),'ro-',markersize=4,lw=1);\n",
    "plt.xlabel('Atomic charge')\n",
    "plt.ylabel('logarithmic abundance relative to H')"
   ]
  },
  {
   "cell_type": "markdown",
   "metadata": {},
   "source": [
    "## Calculate X, Y, Z"
   ]
  },
  {
   "cell_type": "code",
   "execution_count": 46,
   "metadata": {},
   "outputs": [],
   "source": [
    "X = eps[0]/total_mass\n",
    "Y = eps[1]/total_mass"
   ]
  },
  {
   "cell_type": "code",
   "execution_count": 47,
   "metadata": {},
   "outputs": [],
   "source": [
    "zzz = (atoms['Z'] > 2)\n",
    "Z = eps[zzz].sum()/total_mass"
   ]
  },
  {
   "cell_type": "code",
   "execution_count": 51,
   "metadata": {},
   "outputs": [
    {
     "name": "stdout",
     "output_type": "stream",
     "text": [
      "\n",
      "Current mean abundances by mass: X=H, Y=He, Z=metals; mean mass per H atom, µ.\n",
      "\n",
      "\tX = 0.7438\n",
      "\tY = 0.2423\n",
      "\tZ = 0.0139\n",
      "\tµ = 1/X = 1.3445\n"
     ]
    }
   ],
   "source": [
    "print(\"\\nCurrent mean abundances by mass: X=H, Y=He, Z=metals; mean mass per H atom, µ.\\n\")\n",
    "print(\"\\tX = {0:0.4f}\".format(X))\n",
    "print(\"\\tY = {0:0.4f}\".format(Y))\n",
    "print(\"\\tZ = {0:0.4f}\".format(Z))\n",
    "print(\"\\tµ = 1/X = {0:0.4f}\".format(1./X))"
   ]
  },
  {
   "cell_type": "markdown",
   "metadata": {},
   "source": [
    "```\n",
    "\n",
    "```\n",
    "# ---- OLD -----"
   ]
  },
  {
   "cell_type": "markdown",
   "metadata": {},
   "source": [
    "## Read in the Asplund+ (2009) data \n",
    "*For convenience, cull to Z < 75.* "
   ]
  },
  {
   "cell_type": "code",
   "execution_count": 52,
   "metadata": {},
   "outputs": [],
   "source": [
    "output_file = 'solarabundances_asplund2009.fits'"
   ]
  },
  {
   "cell_type": "code",
   "execution_count": 53,
   "metadata": {},
   "outputs": [],
   "source": [
    "fl = 'asplund2009_abundances.txt'\n",
    "asplund = Table.read(fl,format='ascii',comment=';')\n",
    "asplund.remove_column('DIFF_PH_MET')\n",
    "\n",
    "#Excise Z>75 data\n",
    "gd = (asplund['Z'] <= 75)\n",
    "solar = asplund[gd]"
   ]
  },
  {
   "cell_type": "markdown",
   "metadata": {},
   "source": [
    "Add column for references:"
   ]
  },
  {
   "cell_type": "code",
   "execution_count": 54,
   "metadata": {},
   "outputs": [],
   "source": [
    "reference_column = Column(['Asplund+ (2009)']*np.size(solar), name='Reference', dtype='U30')\n",
    "solar.add_column(reference_column)"
   ]
  },
  {
   "cell_type": "markdown",
   "metadata": {},
   "source": [
    "Simple text list of element names:"
   ]
  },
  {
   "cell_type": "code",
   "execution_count": 55,
   "metadata": {},
   "outputs": [],
   "source": [
    "element_names=np.chararray.strip(solar['ELEMENT'])"
   ]
  },
  {
   "cell_type": "markdown",
   "metadata": {},
   "source": [
    "# Oxygen...issues."
   ]
  },
  {
   "cell_type": "code",
   "execution_count": 56,
   "metadata": {},
   "outputs": [
    {
     "data": {
      "text/html": [
       "<div><i>Table length=1</i>\n",
       "<table id=\"table6251875392\" class=\"table-striped table-bordered table-condensed\">\n",
       "<thead><tr><th>Z</th><th>ELEMENT</th><th>PHOTO</th><th>PHOTO_ERR</th><th>METEOR</th><th>METEOR_ERR</th><th>BEST</th><th>ERR</th><th>Reference</th></tr></thead>\n",
       "<thead><tr><th>int64</th><th>str2</th><th>float64</th><th>float64</th><th>float64</th><th>float64</th><th>float64</th><th>float64</th><th>str30</th></tr></thead>\n",
       "<tr><td>8</td><td>O</td><td>8.69</td><td>0.05</td><td>8.4</td><td>0.04</td><td>8.69</td><td>0.05</td><td>Asplund+ (2009)</td></tr>\n",
       "</table></div>"
      ],
      "text/plain": [
       "<Table length=1>\n",
       "  Z   ELEMENT  PHOTO  PHOTO_ERR  METEOR METEOR_ERR   BEST    ERR      Reference   \n",
       "int64   str2  float64  float64  float64  float64   float64 float64      str30     \n",
       "----- ------- ------- --------- ------- ---------- ------- ------- ---------------\n",
       "    8       O    8.69      0.05     8.4       0.04    8.69    0.05 Asplund+ (2009)"
      ]
     },
     "execution_count": 56,
     "metadata": {},
     "output_type": "execute_result"
    }
   ],
   "source": [
    "o_indx = np.where((element_names.lower() == 'O'.lower()))\n",
    "solar[o_indx]"
   ]
  },
  {
   "cell_type": "markdown",
   "metadata": {},
   "source": [
    "## Adopt the Steffen+ (2015) oxygen abundance"
   ]
  },
  {
   "cell_type": "code",
   "execution_count": 57,
   "metadata": {},
   "outputs": [
    {
     "name": "stdout",
     "output_type": "stream",
     "text": [
      "Old O mass fraction: 0.00578\n",
      "New O mass fraction: 0.00680\n"
     ]
    }
   ],
   "source": [
    "steffen = [8.76, 0.02]\n",
    "\n",
    "solar['BEST'][o_indx] = steffen[0] # Steffen abundance\n",
    "solar['ERR'][o_indx] = steffen[1]\n",
    "\n",
    "solar['PHOTO'][o_indx] = steffen[0] # Steffen abundance\n",
    "solar['PHOTO_ERR'][o_indx] = steffen[1]\n",
    "\n",
    "solar['Reference'][o_indx] = 'Steffen+ (2015)'\n",
    "\n",
    "#Total mass:\n",
    "mmm = (10.**(solar['PHOTO'][0]-12.)/0.7381)\n",
    "#Old oxygen mass:\n",
    "print(\"Old O mass fraction: {0:0.5f}\".format((10.**(asplund['PHOTO'][o_indx]-12.)*16./mmm)[0]))\n",
    "#New oxygen mass:\n",
    "print(\"New O mass fraction: {0:0.5f}\".format((10.**(solar['BEST'][o_indx]-12.)*16./mmm)[0]))"
   ]
  },
  {
   "cell_type": "code",
   "execution_count": 58,
   "metadata": {},
   "outputs": [
    {
     "data": {
      "text/html": [
       "<div><i>Table length=1</i>\n",
       "<table id=\"table6252998368\" class=\"table-striped table-bordered table-condensed\">\n",
       "<thead><tr><th>Z</th><th>ELEMENT</th><th>PHOTO</th><th>PHOTO_ERR</th><th>METEOR</th><th>METEOR_ERR</th><th>BEST</th><th>ERR</th><th>Reference</th></tr></thead>\n",
       "<thead><tr><th>int64</th><th>str2</th><th>float64</th><th>float64</th><th>float64</th><th>float64</th><th>float64</th><th>float64</th><th>str30</th></tr></thead>\n",
       "<tr><td>8</td><td>O</td><td>8.76</td><td>0.02</td><td>8.4</td><td>0.04</td><td>8.76</td><td>0.02</td><td>Steffen+ (2015)</td></tr>\n",
       "</table></div>"
      ],
      "text/plain": [
       "<Table length=1>\n",
       "  Z   ELEMENT  PHOTO  PHOTO_ERR  METEOR METEOR_ERR   BEST    ERR      Reference   \n",
       "int64   str2  float64  float64  float64  float64   float64 float64      str30     \n",
       "----- ------- ------- --------- ------- ---------- ------- ------- ---------------\n",
       "    8       O    8.76      0.02     8.4       0.04    8.76    0.02 Steffen+ (2015)"
      ]
     },
     "execution_count": 58,
     "metadata": {},
     "output_type": "execute_result"
    }
   ],
   "source": [
    "solar[o_indx]"
   ]
  },
  {
   "cell_type": "markdown",
   "metadata": {},
   "source": [
    "## Adopt the Amarsi+ (2018) oxygen abundance\n",
    "\n",
    "Amarsi+ (2018) have questioned the results of Steffen+ (2015). Their derived abundance is equivalent to the original Asplund version. It appears the solar oxygen abundance is still in question."
   ]
  },
  {
   "cell_type": "code",
   "execution_count": 59,
   "metadata": {},
   "outputs": [
    {
     "name": "stdout",
     "output_type": "stream",
     "text": [
      "Old O mass fraction: 0.00578\n",
      "New O mass fraction: 0.00578\n"
     ]
    }
   ],
   "source": [
    "amarsi = [8.69, 0.03]\n",
    "\n",
    "solar['BEST'][o_indx] = amarsi[0] # Steffen abundance\n",
    "solar['ERR'][o_indx] = amarsi[1]\n",
    "\n",
    "solar['PHOTO'][o_indx] = amarsi[0] # Steffen abundance\n",
    "solar['PHOTO_ERR'][o_indx] = amarsi[1]\n",
    "\n",
    "solar['Reference'][o_indx] = 'Amarsi+ (2018);Asplund+ (2009)'\n",
    "\n",
    "#Total mass:\n",
    "mmm = (10.**(solar['PHOTO'][0]-12.)/0.7381)\n",
    "#Old oxygen mass:\n",
    "print(\"Old O mass fraction: {0:0.5f}\".format((10.**(asplund['PHOTO'][o_indx]-12.)*16./mmm)[0]))\n",
    "#New oxygen mass:\n",
    "print(\"New O mass fraction: {0:0.5f}\".format((10.**(solar['BEST'][o_indx]-12.)*16./mmm)[0]))"
   ]
  },
  {
   "cell_type": "code",
   "execution_count": 60,
   "metadata": {},
   "outputs": [
    {
     "data": {
      "text/html": [
       "<div><i>Table length=1</i>\n",
       "<table id=\"table6251872464\" class=\"table-striped table-bordered table-condensed\">\n",
       "<thead><tr><th>Z</th><th>ELEMENT</th><th>PHOTO</th><th>PHOTO_ERR</th><th>METEOR</th><th>METEOR_ERR</th><th>BEST</th><th>ERR</th><th>Reference</th></tr></thead>\n",
       "<thead><tr><th>int64</th><th>str2</th><th>float64</th><th>float64</th><th>float64</th><th>float64</th><th>float64</th><th>float64</th><th>str30</th></tr></thead>\n",
       "<tr><td>8</td><td>O</td><td>8.69</td><td>0.03</td><td>8.4</td><td>0.04</td><td>8.69</td><td>0.03</td><td>Amarsi+ (2018);Asplund+ (2009)</td></tr>\n",
       "</table></div>"
      ],
      "text/plain": [
       "<Table length=1>\n",
       "  Z   ELEMENT  PHOTO  PHOTO_ERR ...   BEST    ERR             Reference           \n",
       "int64   str2  float64  float64  ... float64 float64             str30             \n",
       "----- ------- ------- --------- ... ------- ------- ------------------------------\n",
       "    8       O    8.69      0.03 ...    8.69    0.03 Amarsi+ (2018);Asplund+ (2009)"
      ]
     },
     "execution_count": 60,
     "metadata": {},
     "output_type": "execute_result"
    }
   ],
   "source": [
    "solar[o_indx]"
   ]
  },
  {
   "cell_type": "markdown",
   "metadata": {},
   "source": [
    "## Add mean atomic mass"
   ]
  },
  {
   "cell_type": "code",
   "execution_count": 61,
   "metadata": {},
   "outputs": [],
   "source": [
    "iso = Table.read('isotopes.dat',format='ascii',comment=';;')\n",
    "iso.keep_columns(['Z','AtomicWeight'])\n",
    "atoms = join(solar,iso,keys='Z')"
   ]
  },
  {
   "cell_type": "markdown",
   "metadata": {},
   "source": [
    "Now we have all the information we want in the combined table `atoms`."
   ]
  },
  {
   "cell_type": "code",
   "execution_count": 62,
   "metadata": {},
   "outputs": [
    {
     "data": {
      "text/html": [
       "<div><i>Table length=5</i>\n",
       "<table id=\"table6252996640\" class=\"table-striped table-bordered table-condensed\">\n",
       "<thead><tr><th>Z</th><th>ELEMENT</th><th>PHOTO</th><th>PHOTO_ERR</th><th>METEOR</th><th>METEOR_ERR</th><th>BEST</th><th>ERR</th><th>Reference</th><th>AtomicWeight</th></tr></thead>\n",
       "<thead><tr><th>int64</th><th>str2</th><th>float64</th><th>float64</th><th>float64</th><th>float64</th><th>float64</th><th>float64</th><th>str30</th><th>float64</th></tr></thead>\n",
       "<tr><td>1</td><td>H</td><td>12.0</td><td>30.0</td><td>8.22</td><td>0.04</td><td>12.0</td><td>0.0</td><td>Asplund+ (2009)</td><td>1.0079</td></tr>\n",
       "<tr><td>2</td><td>He</td><td>10.93</td><td>0.01</td><td>1.29</td><td>30.0</td><td>10.93</td><td>0.01</td><td>Asplund+ (2009)</td><td>4.002602</td></tr>\n",
       "<tr><td>3</td><td>Li</td><td>1.05</td><td>0.1</td><td>3.26</td><td>0.05</td><td>3.26</td><td>0.05</td><td>Asplund+ (2009)</td><td>6.968</td></tr>\n",
       "<tr><td>4</td><td>Be</td><td>1.38</td><td>0.09</td><td>1.3</td><td>0.03</td><td>1.31</td><td>0.03</td><td>Asplund+ (2009)</td><td>9.01218</td></tr>\n",
       "<tr><td>5</td><td>B</td><td>2.7</td><td>0.2</td><td>2.79</td><td>0.04</td><td>2.79</td><td>0.04</td><td>Asplund+ (2009)</td><td>10.813</td></tr>\n",
       "</table></div>"
      ],
      "text/plain": [
       "<Table length=5>\n",
       "  Z   ELEMENT  PHOTO  PHOTO_ERR  METEOR ...   BEST    ERR      Reference    AtomicWeight\n",
       "int64   str2  float64  float64  float64 ... float64 float64      str30        float64   \n",
       "----- ------- ------- --------- ------- ... ------- ------- --------------- ------------\n",
       "    1       H    12.0      30.0    8.22 ...    12.0     0.0 Asplund+ (2009)       1.0079\n",
       "    2      He   10.93      0.01    1.29 ...   10.93    0.01 Asplund+ (2009)     4.002602\n",
       "    3      Li    1.05       0.1    3.26 ...    3.26    0.05 Asplund+ (2009)        6.968\n",
       "    4      Be    1.38      0.09     1.3 ...    1.31    0.03 Asplund+ (2009)      9.01218\n",
       "    5       B     2.7       0.2    2.79 ...    2.79    0.04 Asplund+ (2009)       10.813"
      ]
     },
     "execution_count": 62,
     "metadata": {},
     "output_type": "execute_result"
    }
   ],
   "source": [
    "atoms[0:5]"
   ]
  },
  {
   "cell_type": "markdown",
   "metadata": {},
   "source": [
    "## Write to output file"
   ]
  },
  {
   "cell_type": "code",
   "execution_count": 63,
   "metadata": {},
   "outputs": [],
   "source": [
    "atoms.write(output_file)"
   ]
  },
  {
   "cell_type": "markdown",
   "metadata": {},
   "source": [
    "## Mean metal abundances by mass"
   ]
  },
  {
   "cell_type": "code",
   "execution_count": 64,
   "metadata": {},
   "outputs": [],
   "source": [
    "# The abundance by mass:\n",
    "eps = (10.**(atoms['BEST']-12.)*atoms['AtomicWeight']).data\n",
    "total_mass = eps.sum()"
   ]
  },
  {
   "cell_type": "code",
   "execution_count": 65,
   "metadata": {},
   "outputs": [
    {
     "data": {
      "image/png": "[encoded data removed]",
      "text/plain": [
       "<Figure size 432x288 with 1 Axes>"
      ]
     },
     "metadata": {
      "image/png": {
       "height": 247,
       "width": 376
      },
      "needs_background": "light"
     },
     "output_type": "display_data"
    }
   ],
   "source": [
    "plt.plot(atoms['Z'],np.log10(eps/total_mass),'ro-',markersize=4,lw=1);"
   ]
  },
  {
   "cell_type": "markdown",
   "metadata": {},
   "source": [
    "## Calculate X, Y, Z"
   ]
  },
  {
   "cell_type": "code",
   "execution_count": 66,
   "metadata": {},
   "outputs": [],
   "source": [
    "X = eps[0]/total_mass\n",
    "Y = eps[1]/total_mass"
   ]
  },
  {
   "cell_type": "code",
   "execution_count": 67,
   "metadata": {},
   "outputs": [],
   "source": [
    "zzz = (atoms['Z'] > 2)\n",
    "Z = eps[zzz].sum()/total_mass"
   ]
  },
  {
   "cell_type": "code",
   "execution_count": 68,
   "metadata": {},
   "outputs": [
    {
     "name": "stdout",
     "output_type": "stream",
     "text": [
      "\n",
      "Mean abundances by mass: X=H, Y=He, Z=metals; mean mass per H atom, µ.\n",
      "\n",
      "\tX = 0.7376\n",
      "\tY = 0.2493\n",
      "\tZ = 0.0131\n",
      "\tµ = 1.3558\n"
     ]
    }
   ],
   "source": [
    "print(\"\\nMean abundances by mass: X=H, Y=He, Z=metals; mean mass per H atom, µ.\\n\")\n",
    "print(\"\\tX = {0:0.4f}\".format(X))\n",
    "print(\"\\tY = {0:0.4f}\".format(Y))\n",
    "print(\"\\tZ = {0:0.4f}\".format(Z))\n",
    "print(\"\\tµ = {0:0.4f}\".format(1./X))"
   ]
  },
  {
   "cell_type": "markdown",
   "metadata": {},
   "source": [
    "Thus the metal mass fraction in the solar system is **Z = 0.0131**.\n",
    "\n",
    "The mean mass per H is **µ = 1.36.**"
   ]
  },
  {
   "cell_type": "code",
   "execution_count": null,
   "metadata": {},
   "outputs": [],
   "source": []
  }
 ],
 "metadata": {
  "kernelspec": {
   "display_name": "Python 3 (ipykernel)",
   "language": "python",
   "name": "python3"
  },
  "language_info": {
   "codemirror_mode": {
    "name": "ipython",
    "version": 3
   },
   "file_extension": ".py",
   "mimetype": "text/x-python",
   "name": "python",
   "nbconvert_exporter": "python",
   "pygments_lexer": "ipython3",
   "version": "3.9.7"
  }
 },
 "nbformat": 4,
 "nbformat_minor": 4
}
